{
 "cells": [
  {
   "cell_type": "markdown",
   "metadata": {},
   "source": [
    "# Data Analytics Assignment: Exploring and making predictions on IMDb data"
   ]
  },
  {
   "cell_type": "markdown",
   "metadata": {},
   "source": [
    "## Background\n",
    "\n",
    "IMDb is an online database of data relating to films, TV shows, home videos and video games, and streaming content, that includes information about the cast, production crew and personnel biographies, plot summaries, and user reviews and ratings. The database publishes a daily dump of its full database (https://www.imdb.com/interfaces/), which is obviously going to be very large.\n",
    "\n",
    "For this assignment you will not work with the full dataset, but with a selection of around 5000 movies and associated metadata about each movie that is found in the file `movie_metadata.csv`. The dataset is originally published on Kaggle as part of a data mining competition here https://www.kaggle.com/karrrimba/movie-metadatacsv."
   ]
  },
  {
   "cell_type": "markdown",
   "metadata": {},
   "source": [
    "## Problem description\n",
    "\n",
    "Your assignment task is to use some of the coding patterns that you have observed in Labs 1-4 and any basic Python that you have additionally learned, to explore the IMDb `movie_metadata.csv` dataset and then to create a classifier model to demonstrate making predictions on IMDb data.\n",
    "\n",
    "Everything you need to get started with this assignment is available in the Lab notebooks and example notebooks found in the main course GitHub repository (https://github.com/UppsalaIM/2IS239). The Lab 0 notebooks will help you with adding your own code and editing your own notebooks.\n",
    "\n",
    "In the following sections in this notebook are cells documenting what you subtask in your data exploration is needed, and a code cell for you to fill out your own code. To achieve a pass, you must be able to demonstrate appropriate use of Python code to load the dataset (10 points), do some preprocessing (30 points), data exploration (30 points), and predictive modelling (30 points)."
   ]
  },
  {
   "cell_type": "code",
   "execution_count": null,
   "metadata": {},
   "outputs": [],
   "source": [
    "# Add your imports. Add more if you need them\n",
    "import pandas as pd\n",
    "import numpy as np"
   ]
  },
  {
   "cell_type": "markdown",
   "metadata": {},
   "source": [
    "## Data collection\n",
    "\n",
    "Load the dataset (10 points)."
   ]
  },
  {
   "cell_type": "code",
   "execution_count": null,
   "metadata": {},
   "outputs": [],
   "source": [
    "# Add your own code to load the dataset using Pandas\n",
    "movie_meta = ... "
   ]
  },
  {
   "cell_type": "markdown",
   "metadata": {},
   "source": [
    "## Data preprocessing\n",
    "\n",
    "Assess the quality of the data and perform any preprocessing required to address any quality issues (30 points).\n",
    "\n",
    "*Hint: Think about whether you need to find and drop any rows because of missing or duplicate data, or if you need to drop any columns that might not be relevant.*"
   ]
  },
  {
   "cell_type": "code",
   "execution_count": null,
   "metadata": {},
   "outputs": [],
   "source": [
    "# Add your own code to do any data preprocessing steps you think are necessary"
   ]
  },
  {
   "cell_type": "markdown",
   "metadata": {},
   "source": [
    "## Data exploration\n",
    "\n",
    "Produce summary statistics about the dataset. Explore the data using visualizations, demonstrating the appropriate use of at least one histogram (to see the distribution of values for one variable) and one scatterplot (to explore the relationship between multiple variables) (30 points)."
   ]
  },
  {
   "cell_type": "code",
   "execution_count": null,
   "metadata": {},
   "outputs": [],
   "source": [
    "# Add your own code to do any descriptive statistics or visualizations to explore your data"
   ]
  },
  {
   "cell_type": "markdown",
   "metadata": {},
   "source": [
    "## Predictive modelling\n",
    "\n",
    "Produce predictive models using the dataset. Demonstrate predicting one continuous vaslue from one other variable, and demonstrate predicting a class from multiple other variables (30 points).\n",
    "\n",
    "*Hint: Think about whether you wish to do regression analysis or train a machine learning classifier (such as decision tree model or SVM).*"
   ]
  },
  {
   "cell_type": "code",
   "execution_count": null,
   "metadata": {},
   "outputs": [],
   "source": [
    "# Add your own code to do any predictive modelling on your data"
   ]
  }
 ],
 "metadata": {},
 "nbformat": 4,
 "nbformat_minor": 2
}
